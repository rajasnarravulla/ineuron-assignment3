{
 "cells": [
  {
   "cell_type": "markdown",
   "metadata": {},
   "source": [
    "### iNeuron Python Assignment-3"
   ]
  },
  {
   "cell_type": "markdown",
   "metadata": {},
   "source": [
    "#### 1.1 Write a Python Program to implement your own myreduce() function which works exactly like Python's built-in function reduce()\n"
   ]
  },
  {
   "cell_type": "code",
   "execution_count": 1,
   "metadata": {},
   "outputs": [
    {
     "name": "stdout",
     "output_type": "stream",
     "text": [
      "Mininum value (without reduce function) in the list is: 2\n",
      "Mininum value (with reduce function) in the list is: 2\n"
     ]
    }
   ],
   "source": [
    "# Trying to find the Mininum number in the list without using the reduce() function in Python.\n",
    "my_list = [4,6,2,8,4,9,5,3,7]\n",
    "min_value = my_list[0]\n",
    "for num in my_list:\n",
    "    if num < min_value:\n",
    "        min_value = num\n",
    "print(\"Mininum value (without reduce function) in the list is:\",min_value)\n",
    "\n",
    "# Mininum value with reduce function\n",
    "from functools import reduce\n",
    "def check_minimum(a,b):\n",
    "    if a < b: \n",
    "        return a \n",
    "    else: \n",
    "        return b\n",
    "print(\"Mininum value (with reduce function) in the list is:\",reduce(check_minimum, my_list))"
   ]
  },
  {
   "cell_type": "markdown",
   "metadata": {},
   "source": [
    "#### 1.2 Write a Python program to implement your own myfilter() function which works exactly  like Python's built-in function filter()"
   ]
  },
  {
   "cell_type": "code",
   "execution_count": 2,
   "metadata": {},
   "outputs": [
    {
     "name": "stdout",
     "output_type": "stream",
     "text": [
      "Filtered Vowels with position of Vowel (without filter function) : [(1, 'a'), (3, 'a'), (5, 'a'), (8, 'a'), (10, 'u'), (13, 'a')]\n",
      "Filtered Vowels with position of Vowel (with filter function) : ['a', 'a', 'a', 'a', 'u', 'a']\n"
     ]
    }
   ],
   "source": [
    "# Trying to find the Vowels in the letters list without using the filter() function in Python.\n",
    "letters_list = ['r','a','j','a','n','a','r','r','a','v','u','l','l','a']\n",
    "vowels=['a','e','i','o','u']\n",
    "filtered_vowels = []\n",
    "for e,v in enumerate(letters_list):\n",
    "    if v in vowels:\n",
    "        filtered_vowels.append(tuple((e,v)))\n",
    "\n",
    "print(\"Filtered Vowels with position of Vowel (without filter function) :\", filtered_vowels)\n",
    "\n",
    "# using the filter() function\n",
    "def filtered_vowels(letter):\n",
    "    if letter in vowels:\n",
    "        return True\n",
    "    else:\n",
    "        return False\n",
    "filtered_vowels_using_filter = filter(filtered_vowels, letters_list)\n",
    "print(\"Filtered Vowels with position of Vowel (with filter function) :\",list(filter(filtered_vowels, letters_list)))"
   ]
  },
  {
   "cell_type": "markdown",
   "metadata": {},
   "source": [
    "#### 2. Implement List comprehensions to produce the following lists.  \n",
    "\n",
    "* 2.1:  ['A', 'C', 'A', 'D', 'G', 'I', ’L’, ‘ D’] \n",
    "* 2.2:  ['x', 'xx', 'xxx', 'xxxx', 'y', 'yy', 'yyy', 'yyyy', 'z', 'zz', 'zzz', 'zzzz']  \n",
    "* 2.3:  ['x', 'y', 'z', 'xx', 'yy', 'zz', 'xxx', 'yyy', 'zzz', 'xxxx', 'yyyy', 'zzzz']  \n",
    "* 2.4:  [[2], [3], [4], [3], [4], [5], [4], [5], [6]] \n",
    "* 2.5:  [[2, 3, 4, 5], [3, 4, 5, 6], [4, 5, 6, 7], [5, 6, 7, 8]] \n",
    "* 2.6:  [(1, 1), (2, 1), (3, 1), (1, 2), (2, 2), (3, 2), (1, 3), (2, 3), (3, 3)]"
   ]
  },
  {
   "cell_type": "code",
   "execution_count": 3,
   "metadata": {},
   "outputs": [
    {
     "name": "stdout",
     "output_type": "stream",
     "text": [
      "['A', 'C', 'A', 'D', 'G', 'I', 'L', 'D']\n"
     ]
    }
   ],
   "source": [
    "# 2.1 ['A', 'C', 'A', 'D', 'G', 'I', ’L’, ‘ D’]\n",
    "\n",
    "word=\"AcadGild\"\n",
    "print([w.upper() for w in list(word)])"
   ]
  },
  {
   "cell_type": "code",
   "execution_count": 4,
   "metadata": {},
   "outputs": [
    {
     "name": "stdout",
     "output_type": "stream",
     "text": [
      "['x', 'xx', 'xxx', 'xxxx', 'y', 'yy', 'yyy', 'yyyy', 'z', 'zz', 'zzz', 'zzzz']\n"
     ]
    }
   ],
   "source": [
    "# 2.2: ['x', 'xx', 'xxx', 'xxxx', 'y', 'yy', 'yyy', 'yyyy', 'z', 'zz', 'zzz', 'zzzz']\n",
    "\n",
    "xyz = list('xyz')\n",
    "print([x*n for x in xyz for n in range(1,5)])"
   ]
  },
  {
   "cell_type": "code",
   "execution_count": 5,
   "metadata": {},
   "outputs": [
    {
     "name": "stdout",
     "output_type": "stream",
     "text": [
      "['x', 'y', 'z', 'xx', 'yy', 'zz', 'xxx', 'yyy', 'zzz', 'xxxx', 'yyyy', 'zzzz']\n"
     ]
    }
   ],
   "source": [
    "# 2.3: ['x', 'y', 'z', 'xx', 'yy', 'zz', 'xxx', 'yyy', 'zzz', 'xxxx', 'yyyy', 'zzzz']\n",
    "\n",
    "xyz = list('xyz')\n",
    "print([x*n for n in range(1,5) for x in xyz ])"
   ]
  },
  {
   "cell_type": "code",
   "execution_count": 6,
   "metadata": {},
   "outputs": [
    {
     "name": "stdout",
     "output_type": "stream",
     "text": [
      "[[2], [3], [4], [3], [4], [5], [4], [5], [6]]\n"
     ]
    }
   ],
   "source": [
    "# 2.4: [[2], [3], [4], [3], [4], [5], [4], [5], [6]]\n",
    "\n",
    "print([[a+b] for a in range(2,5) for b in range(0,3)])"
   ]
  },
  {
   "cell_type": "code",
   "execution_count": 7,
   "metadata": {},
   "outputs": [
    {
     "name": "stdout",
     "output_type": "stream",
     "text": [
      "[[2, 3, 4, 5], [3, 4, 5, 6], [4, 5, 6, 7], [5, 6, 7, 8]]\n"
     ]
    }
   ],
   "source": [
    "# 2.5: [[2, 3, 4, 5], [3, 4, 5, 6], [4, 5, 6, 7], [5, 6, 7, 8]]\n",
    "\n",
    "print([[a+b for a in range(2,6)] for b in range(0,4)])"
   ]
  },
  {
   "cell_type": "code",
   "execution_count": 8,
   "metadata": {},
   "outputs": [
    {
     "name": "stdout",
     "output_type": "stream",
     "text": [
      "[(1, 1), (2, 1), (3, 1), (1, 2), (2, 2), (3, 2), (1, 3), (2, 3), (3, 3)]\n"
     ]
    }
   ],
   "source": [
    "# 2.6: [(1, 1), (2, 1), (3, 1), (1, 2), (2, 2), (3, 2), (1, 3), (2, 3), (3, 3)]\n",
    "\n",
    "print([(b,a) for a in range(1,4) for b in range(1,4)])"
   ]
  }
 ],
 "metadata": {
  "kernelspec": {
   "display_name": "Python 3",
   "language": "python",
   "name": "python3"
  },
  "language_info": {
   "codemirror_mode": {
    "name": "ipython",
    "version": 3
   },
   "file_extension": ".py",
   "mimetype": "text/x-python",
   "name": "python",
   "nbconvert_exporter": "python",
   "pygments_lexer": "ipython3",
   "version": "3.8.5"
  }
 },
 "nbformat": 4,
 "nbformat_minor": 4
}
